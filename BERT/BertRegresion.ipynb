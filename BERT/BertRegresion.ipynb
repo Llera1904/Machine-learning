{
  "cells": [
    {
      "cell_type": "code",
      "execution_count": null,
      "metadata": {
        "colab": {
          "base_uri": "https://localhost:8080/"
        },
        "id": "BoAtt6bHF1ZL",
        "outputId": "beb04cef-c204-4645-9439-0f8ca70aae66"
      },
      "outputs": [
        {
          "name": "stdout",
          "output_type": "stream",
          "text": [
            "Requirement already satisfied: accelerate in /usr/local/lib/python3.10/dist-packages (0.30.0)\n",
            "Requirement already satisfied: numpy>=1.17 in /usr/local/lib/python3.10/dist-packages (from accelerate) (1.25.2)\n",
            "Requirement already satisfied: packaging>=20.0 in /usr/local/lib/python3.10/dist-packages (from accelerate) (24.0)\n",
            "Requirement already satisfied: psutil in /usr/local/lib/python3.10/dist-packages (from accelerate) (5.9.5)\n",
            "Requirement already satisfied: pyyaml in /usr/local/lib/python3.10/dist-packages (from accelerate) (6.0.1)\n",
            "Requirement already satisfied: torch>=1.10.0 in /usr/local/lib/python3.10/dist-packages (from accelerate) (2.2.1+cu121)\n",
            "Requirement already satisfied: huggingface-hub in /usr/local/lib/python3.10/dist-packages (from accelerate) (0.20.3)\n",
            "Requirement already satisfied: safetensors>=0.3.1 in /usr/local/lib/python3.10/dist-packages (from accelerate) (0.4.3)\n",
            "Requirement already satisfied: filelock in /usr/local/lib/python3.10/dist-packages (from torch>=1.10.0->accelerate) (3.14.0)\n",
            "Requirement already satisfied: typing-extensions>=4.8.0 in /usr/local/lib/python3.10/dist-packages (from torch>=1.10.0->accelerate) (4.11.0)\n",
            "Requirement already satisfied: sympy in /usr/local/lib/python3.10/dist-packages (from torch>=1.10.0->accelerate) (1.12)\n",
            "Requirement already satisfied: networkx in /usr/local/lib/python3.10/dist-packages (from torch>=1.10.0->accelerate) (3.3)\n",
            "Requirement already satisfied: jinja2 in /usr/local/lib/python3.10/dist-packages (from torch>=1.10.0->accelerate) (3.1.3)\n",
            "Requirement already satisfied: fsspec in /usr/local/lib/python3.10/dist-packages (from torch>=1.10.0->accelerate) (2023.6.0)\n",
            "Requirement already satisfied: nvidia-cuda-nvrtc-cu12==12.1.105 in /usr/local/lib/python3.10/dist-packages (from torch>=1.10.0->accelerate) (12.1.105)\n",
            "Requirement already satisfied: nvidia-cuda-runtime-cu12==12.1.105 in /usr/local/lib/python3.10/dist-packages (from torch>=1.10.0->accelerate) (12.1.105)\n",
            "Requirement already satisfied: nvidia-cuda-cupti-cu12==12.1.105 in /usr/local/lib/python3.10/dist-packages (from torch>=1.10.0->accelerate) (12.1.105)\n",
            "Requirement already satisfied: nvidia-cudnn-cu12==8.9.2.26 in /usr/local/lib/python3.10/dist-packages (from torch>=1.10.0->accelerate) (8.9.2.26)\n",
            "Requirement already satisfied: nvidia-cublas-cu12==12.1.3.1 in /usr/local/lib/python3.10/dist-packages (from torch>=1.10.0->accelerate) (12.1.3.1)\n",
            "Requirement already satisfied: nvidia-cufft-cu12==11.0.2.54 in /usr/local/lib/python3.10/dist-packages (from torch>=1.10.0->accelerate) (11.0.2.54)\n",
            "Requirement already satisfied: nvidia-curand-cu12==10.3.2.106 in /usr/local/lib/python3.10/dist-packages (from torch>=1.10.0->accelerate) (10.3.2.106)\n",
            "Requirement already satisfied: nvidia-cusolver-cu12==11.4.5.107 in /usr/local/lib/python3.10/dist-packages (from torch>=1.10.0->accelerate) (11.4.5.107)\n",
            "Requirement already satisfied: nvidia-cusparse-cu12==12.1.0.106 in /usr/local/lib/python3.10/dist-packages (from torch>=1.10.0->accelerate) (12.1.0.106)\n",
            "Requirement already satisfied: nvidia-nccl-cu12==2.19.3 in /usr/local/lib/python3.10/dist-packages (from torch>=1.10.0->accelerate) (2.19.3)\n",
            "Requirement already satisfied: nvidia-nvtx-cu12==12.1.105 in /usr/local/lib/python3.10/dist-packages (from torch>=1.10.0->accelerate) (12.1.105)\n",
            "Requirement already satisfied: triton==2.2.0 in /usr/local/lib/python3.10/dist-packages (from torch>=1.10.0->accelerate) (2.2.0)\n",
            "Requirement already satisfied: nvidia-nvjitlink-cu12 in /usr/local/lib/python3.10/dist-packages (from nvidia-cusolver-cu12==11.4.5.107->torch>=1.10.0->accelerate) (12.4.127)\n",
            "Requirement already satisfied: requests in /usr/local/lib/python3.10/dist-packages (from huggingface-hub->accelerate) (2.31.0)\n",
            "Requirement already satisfied: tqdm>=4.42.1 in /usr/local/lib/python3.10/dist-packages (from huggingface-hub->accelerate) (4.66.2)\n",
            "Requirement already satisfied: MarkupSafe>=2.0 in /usr/local/lib/python3.10/dist-packages (from jinja2->torch>=1.10.0->accelerate) (2.1.5)\n",
            "Requirement already satisfied: charset-normalizer<4,>=2 in /usr/local/lib/python3.10/dist-packages (from requests->huggingface-hub->accelerate) (3.3.2)\n",
            "Requirement already satisfied: idna<4,>=2.5 in /usr/local/lib/python3.10/dist-packages (from requests->huggingface-hub->accelerate) (3.7)\n",
            "Requirement already satisfied: urllib3<3,>=1.21.1 in /usr/local/lib/python3.10/dist-packages (from requests->huggingface-hub->accelerate) (2.0.7)\n",
            "Requirement already satisfied: certifi>=2017.4.17 in /usr/local/lib/python3.10/dist-packages (from requests->huggingface-hub->accelerate) (2024.2.2)\n",
            "Requirement already satisfied: mpmath>=0.19 in /usr/local/lib/python3.10/dist-packages (from sympy->torch>=1.10.0->accelerate) (1.3.0)\n"
          ]
        }
      ],
      "source": [
        "# !pip install --no-cache-dir transformadores==4.3 1.0\n",
        "# !pip install --no-cache-dir pyarrow\n",
        "# !pip install acelerar"
      ]
    },
    {
      "cell_type": "code",
      "source": [],
      "metadata": {
        "id": "p2DyAUlY6Zt1"
      },
      "execution_count": null,
      "outputs": []
    },
    {
      "cell_type": "code",
      "execution_count": null,
      "metadata": {
        "colab": {
          "base_uri": "https://localhost:8080/"
        },
        "id": "xvAhvEpyuyUE",
        "outputId": "adb07a94-2a77-42d8-a922-996f4a606654"
      },
      "outputs": [
        {
          "name": "stdout",
          "output_type": "stream",
          "text": [
            "df_mapped: (182767, 21)\n"
          ]
        }
      ],
      "source": [
        "import pandas as pd\n",
        "\n",
        "df_mapped = pd.read_parquet('df_mapped.parquet')\n",
        "print('df_mapped:', df_mapped.shape)"
      ]
    },
    {
      "cell_type": "code",
      "execution_count": null,
      "metadata": {
        "colab": {
          "base_uri": "https://localhost:8080/"
        },
        "id": "OwdRPPe01RyI",
        "outputId": "b0dd8111-1b13-4a70-f933-ee8a8a33daae"
      },
      "outputs": [
        {
          "name": "stdout",
          "output_type": "stream",
          "text": [
            "df_mapped: (146779, 21)\n"
          ]
        }
      ],
      "source": [
        "df_mapped = df_mapped.drop_duplicates(subset='nameProduct', keep=\"last\")\n",
        "print('df_mapped:', df_mapped.shape)"
      ]
    },
    {
      "cell_type": "code",
      "execution_count": null,
      "metadata": {
        "colab": {
          "base_uri": "https://localhost:8080/"
        },
        "id": "ggBGoo1_u3sy",
        "outputId": "aaf62c05-023f-4a7f-ad45-9c2d8da9563a"
      },
      "outputs": [
        {
          "data": {
            "text/plain": [
              "((94043, 21), (52736, 21))"
            ]
          },
          "execution_count": 4,
          "metadata": {},
          "output_type": "execute_result"
        }
      ],
      "source": [
        "df_english = df_mapped[df_mapped.column_idioma == \"Inglés\"]\n",
        "df_spanish = df_mapped[df_mapped.column_idioma == \"Español\"]\n",
        "\n",
        "df_english.shape, df_spanish.shape"
      ]
    },
    {
      "cell_type": "code",
      "execution_count": null,
      "metadata": {
        "id": "gxCSkgQo2bHf"
      },
      "outputs": [],
      "source": [
        "caracteristica = 'price'"
      ]
    },
    {
      "cell_type": "code",
      "execution_count": null,
      "metadata": {
        "colab": {
          "base_uri": "https://localhost:8080/",
          "height": 430
        },
        "id": "8ZJNaJecjwkS",
        "outputId": "04fee845-2982-4a3d-c087-36bdae379157"
      },
      "outputs": [
        {
          "data": {
            "image/png": "[encoded data removed]",
            "text/plain": [
              "<Figure size 640x480 with 1 Axes>"
            ]
          },
          "metadata": {},
          "output_type": "display_data"
        }
      ],
      "source": [
        "import matplotlib.pyplot as plt\n",
        "\n",
        "fig, ax = plt.subplots()\n",
        "plt.plot(list(df_english[caracteristica].values))\n",
        "plt.show()"
      ]
    },
    {
      "cell_type": "code",
      "execution_count": null,
      "metadata": {
        "colab": {
          "base_uri": "https://localhost:8080/",
          "height": 430
        },
        "id": "XHW1YRsTjxob",
        "outputId": "d9ca9007-4843-4f7f-833e-1c051388cb65"
      },
      "outputs": [
        {
          "data": {
            "image/png": "[encoded data removed]",
            "text/plain": [
              "<Figure size 640x480 with 1 Axes>"
            ]
          },
          "metadata": {},
          "output_type": "display_data"
        }
      ],
      "source": [
        "df_english = df_english.drop(df_english[caracteristica][(df_english[caracteristica] >= 2000)].index)\n",
        "\n",
        "fig, ax = plt.subplots()\n",
        "plt.plot(list(df_english[caracteristica].values))\n",
        "plt.show()"
      ]
    },
    {
      "cell_type": "code",
      "execution_count": null,
      "metadata": {
        "id": "n0BV2rOJLt-4"
      },
      "outputs": [],
      "source": [
        "targets = df_english[caracteristica].values"
      ]
    },
    {
      "cell_type": "code",
      "execution_count": null,
      "metadata": {
        "colab": {
          "base_uri": "https://localhost:8080/"
        },
        "id": "rHZ0f5bF2Nkf",
        "outputId": "e7c7ecd5-419f-4d92-effb-dcf221aa2ae6"
      },
      "outputs": [
        {
          "name": "stdout",
          "output_type": "stream",
          "text": [
            "[0.29132037 0.94750615 0.14092    0.20532885 0.52080317 0.8298847\n",
            " 0.50173107 0.36993713 0.33276981 0.23063685]\n"
          ]
        }
      ],
      "source": [
        "from sklearn.preprocessing import MinMaxScaler\n",
        "\n",
        "min_max_scaler = MinMaxScaler()\n",
        "scaled_values = min_max_scaler.fit(targets.reshape(-1, 1))\n",
        "targets = min_max_scaler.transform(targets.reshape(-1, 1)).reshape(1, -1)[0]\n",
        "print(targets[0:10])"
      ]
    },
    {
      "cell_type": "code",
      "execution_count": null,
      "metadata": {
        "colab": {
          "base_uri": "https://localhost:8080/"
        },
        "id": "EdyKx1en6YF6",
        "outputId": "5a97ef40-7ebc-4926-cbd0-7073a8522c70"
      },
      "outputs": [
        {
          "name": "stdout",
          "output_type": "stream",
          "text": [
            "[\"Learn how to draw and color your own adorable world with the simple illustrations and easy-to-follow drawing steps in How to Draw Super Cute Things with Bobbie Goods . Perfect for beginners of all ages and bursting with humor, sweetness, and imagination, this book is sure to put a smile on your face! Get cozy, grab a pencil and your markers, and draw anything you can imagine in the most adorable art style . With her large social media following on Instagram (@bobbiegoodsart) and TikTok (@bobbiegoods), Bobbie Goods shows off her simple techniques for drawing her super cute world . After selling thousands of coloring books since opening her online shop in 2021, Bobbie Goods now brings you an adorable how-to-draw book! You will learn how to: Draw delightful characters, such as puppies, bears, and bunnies! Draw delightful characters, such as puppies, bears, and bunnies! Place them into scenes like a cozy coffee shop, a busy baker's kitchen, or a summertime pool party, and then color them in! Place them into scenes like a cozy coffee shop, a busy baker's kitchen, or a summertime pool party, and then color them in! Draw adorable objects to place in the scenes, such as plants, furniture, food, fashionable accessories, and decorations. Draw adorable objects to place in the scenes, such as plants, furniture, food, fashionable accessories, and decorations. Enjoy drawing and coloring the super cute world of Bobbie Goods! Leer más\"\n",
            " 'When David Hockney discovered the iPhone as an artistic medium, it opened up entirely new possibilities for his art. He made his first digital drawings in spring 2009, describing the morning landscape in broad lines and dazzling colors directly on a display that offered subtle hues as unmixed expressions of pure light. Then in 2010, Hockney started working with an iPad, and the larger screen expanded his artistic repertoire and enabled an even more complex interplay of color, light, and line. Each image in this book captures a fleeting moment seen through a window in Hockneyâ\\x80\\x99s Yorkshire home: from vibrant sunrise and lilac morning sky to peaceful night-time impressions or the sudden arrival of spring. Fascinating details reveal drops on window panes, distant lights in the night, reflections on vases or an abundance of varied window-sill vegetation. In 120 drawings made between 2009 and 2012, selected and arranged by the artist himself, we experience the passage of time through the eyes of David Hockney. This artistâ\\x80\\x99s book, which first appeared in an exclusive signed edition, now returns as an unlimited run, whose still generous XL format presents Hockneyâ\\x80\\x99s impressions in brilliant resolution. So now is the perfect occasion to heed the advice of the Times critic regarding this book: â\\x80\\x9cIf you would like to be given a bouquet by David Hockney, here is your chance.â\\x80\\x9d Leer más'\n",
            " \"Are you brave enough to find EDDIE? You'd better find him before he gets you! Search for IRON MAIDEN's iconic figurehead throughout insanely detailed illustrations based on some of their incredible album covers. Throughout their illustrious career, IRON MAIDEN's dauntless music has captured the hearts of dedicated fans all over the world, ever fueled by a fierce determination and immense passion for rock 'n' roll. Their painfully addictive riffs and gripping lyrical storytelling have created a legacy like no other, and always with EDDIE by their side. As you search for EDDIE, plunge into (15) double-page puzzles inspired by IRON MAIDEN's legendary songs and albums. Walk the edgy East End streets of Killers, escape the maddening asylum of Piece of Mind, trek across the desert ruins of Powerslave, then plummet headfirst down into The Number of the Beast's hellfire--every page pays glorious respect to the sheer awesomeness of IRON MAIDEN's imagery. Lovingly created by the demented team of artists at Fantoons. The studio that brought to life the celebrated seek-and-find book WHERE IS ALICE COOPER?, the fan-adored MOTÃ\\x96RHEAD: THE GRAPHIC NOVEL and IRON MAIDEN: THE OFFICIAL COLORING BOOK. WHERE IS EDDIE? is a must-have for every IRON MAIDEN fan. EDDIE's GONNA GET YA... Leer más\"\n",
            " 'No other artist, apart from J. M. W. Turner, tried as hard as Claude Monet (1840-1926) to capture light itself on canvas. Of all the Impressionists, it was the man Cézanne called \"only an eye, but my God what an eye!\" who stayed true to the principle of absolute fidelity to the visual sensation, painting directly from the object. It could be said that Monet reinvented the possibilities of color. Whether it was through his early interest in Japanese prints, his time as a conscript in the dazzling light of Algeria, or his personal acquaintance with the major painters of the late 19th century, the work Monet produced throughout his long life would change forever the way we perceive both the natural world and its attendant phenomena. The high point of his explorations was the late series of water lilies, painted in his own garden at Giverny, which, in their approach toward almost total formlessness, are really the origin of abstract art. This biography does full justice to this most remarkable and profoundly influential artist, and offers numerous reproductions and archive photos alongside a detailed and insightful commentary. Leer más'\n",
            " 'How Picasso\\'s genius seized the potential of paper throughout his career Picasso\\'s artistic output is astonishing in its ambition and variety. Picasso and Paper examines a particular aspect of his legendary capacity for invention: his imaginative and original use of paper. He used it as a support for autonomous works, including etchings, prints and drawings, as well as for his papier-collé experiments of the 1910s and his revolutionary three-dimensional \"constructions,\" made of cardboard, paper and string. Sometimes his use of paper was simply determined by circumstance: in occupied Paris, where art supplies were in short supply, he ripped up paper tablecloths to make works of art. And of course his works on paper comprise the preparatory stages of some of his very greatest paintings. With reproductions of nearly 400 works of art and a series of insightful new texts by leading authorities on the artist, this sumptuous study reveals the myriad ways in which Picasso explored the potential of paper at different stages of his career. Picasso and Paper is published for an exhibition organized by the Royal Academy of Arts, London, and the Cleveland Museum of Art in partnership with the Musée national Picasso-Paris. The legendary life and career of Pablo Picasso (1881-1973) spanned nearly the entire 20th century and ushered in some of its most significant artistic revolutions. Leer más']\n"
          ]
        }
      ],
      "source": [
        "inputs = df_english['bookDescription'].values\n",
        "print(inputs[0:5])"
      ]
    },
    {
      "cell_type": "code",
      "execution_count": null,
      "metadata": {
        "id": "ATuMMH85wckQ"
      },
      "outputs": [],
      "source": [
        "import torch, gc, random\n",
        "from transformers.file_utils import is_tf_available, is_torch_available\n",
        "from transformers import AutoTokenizer, AutoModelForSequenceClassification, Trainer, TrainingArguments\n",
        "from sklearn.model_selection import train_test_split\n",
        "from sklearn.metrics import mean_squared_error, r2_score, mean_squared_error, mean_absolute_error\n",
        "import pandas as pd\n",
        "import numpy as np"
      ]
    },
    {
      "cell_type": "code",
      "execution_count": null,
      "metadata": {
        "colab": {
          "base_uri": "https://localhost:8080/"
        },
        "id": "xgexVeY8kqZv",
        "outputId": "234c7fcd-5672-42f5-e1bb-8f4c88a5cb7c"
      },
      "outputs": [
        {
          "name": "stdout",
          "output_type": "stream",
          "text": [
            "cuda\n"
          ]
        }
      ],
      "source": [
        "from torch import cuda\n",
        "device = 'cuda' if cuda.is_available() else 'cpu'\n",
        "print(device)"
      ]
    },
    {
      "cell_type": "code",
      "execution_count": null,
      "metadata": {
        "id": "g_r5CHsZYGVx"
      },
      "outputs": [],
      "source": [
        "test_size = 0.3\n",
        "model_name = 'bert-base-uncased'\n",
        "max_length = 250\n",
        "num_epochs = 1"
      ]
    },
    {
      "cell_type": "code",
      "execution_count": null,
      "metadata": {
        "colab": {
          "base_uri": "https://localhost:8080/"
        },
        "id": "1X1JK5InXW-8",
        "outputId": "207663af-3e81-4faf-b7f9-470ab74c4409"
      },
      "outputs": [
        {
          "name": "stderr",
          "output_type": "stream",
          "text": [
            "/usr/local/lib/python3.10/dist-packages/huggingface_hub/utils/_token.py:88: UserWarning: \n",
            "The secret `HF_TOKEN` does not exist in your Colab secrets.\n",
            "To authenticate with the Hugging Face Hub, create a token in your settings tab (https://huggingface.co/settings/tokens), set it as secret in your Google Colab and restart your session.\n",
            "You will be able to reuse this secret in all of your notebooks.\n",
            "Please note that authentication is recommended but still optional to access public models or datasets.\n",
            "  warnings.warn(\n"
          ]
        },
        {
          "name": "stdout",
          "output_type": "stream",
          "text": [
            "Encoding(num_tokens=250, attributes=[ids, type_ids, tokens, offsets, attention_mask, special_tokens_mask, overflowing])\n"
          ]
        }
      ],
      "source": [
        "# Make data\n",
        "X = inputs\n",
        "y = targets\n",
        "\n",
        "# Split Data\n",
        "X_train, X_test, y_train, y_test = train_test_split(X.tolist(), y, test_size=test_size)\n",
        "\n",
        "# Call the Tokenizer\n",
        "tokenizer = AutoTokenizer.from_pretrained(model_name)\n",
        "\n",
        "# Encode the text\n",
        "train_encodings = tokenizer(X_train, truncation=True, padding=True, max_length=max_length)\n",
        "valid_encodings = tokenizer(X_test, truncation=True, padding=True, max_length=max_length)\n",
        "\n",
        "print(train_encodings[0])\n",
        "\n",
        "class MakeTorchData(torch.utils.data.Dataset):\n",
        "    def __init__(self, encodings, labels):\n",
        "        self.encodings = encodings\n",
        "        self.labels = labels\n",
        "\n",
        "    def __getitem__(self, idx):\n",
        "        item = {k: torch.tensor(v[idx]) for k, v in self.encodings.items()}\n",
        "        item[\"labels\"] = torch.tensor([self.labels[idx]])\n",
        "        item[\"labels\"] = float(item[\"labels\"])\n",
        "        return item\n",
        "\n",
        "    def __len__(self):\n",
        "        return len(self.labels)\n",
        "\n",
        "# convert our tokenized data into a torch Dataset\n",
        "train_dataset = MakeTorchData(train_encodings, y_train.ravel())\n",
        "valid_dataset = MakeTorchData(valid_encodings, y_test.ravel())"
      ]
    },
    {
      "cell_type": "code",
      "execution_count": null,
      "metadata": {
        "colab": {
          "base_uri": "https://localhost:8080/"
        },
        "id": "VapfjDFYYUbr",
        "outputId": "9c0b806f-7527-4190-c00c-5380611956f7"
      },
      "outputs": [
        {
          "name": "stderr",
          "output_type": "stream",
          "text": [
            "Some weights of BertForSequenceClassification were not initialized from the model checkpoint at bert-base-uncased and are newly initialized: ['classifier.bias', 'classifier.weight']\n",
            "You should probably TRAIN this model on a down-stream task to be able to use it for predictions and inference.\n"
          ]
        }
      ],
      "source": [
        "model = AutoModelForSequenceClassification.from_pretrained(model_name,\n",
        "                                                           num_labels = 1).to(device)"
      ]
    },
    {
      "cell_type": "code",
      "execution_count": null,
      "metadata": {
        "id": "HFJrzmPJYc_z"
      },
      "outputs": [],
      "source": [
        "def compute_metrics_for_regression(eval_pred):\n",
        "    logits, labels = eval_pred\n",
        "    labels = labels.reshape(-1, 1)\n",
        "\n",
        "    mse = mean_squared_error(labels, logits)\n",
        "    rmse = mean_squared_error(labels, logits, squared=False)\n",
        "    mae = mean_absolute_error(labels, logits)\n",
        "    r2 = r2_score(labels, logits)\n",
        "    smape = 1/len(labels) * np.sum(2 * np.abs(logits-labels) / (np.abs(labels) + np.abs(logits))*100)\n",
        "\n",
        "    return {\"mse\": mse, \"rmse\": rmse, \"mae\": mae, \"r2\": r2, \"smape\": smape}"
      ]
    },
    {
      "cell_type": "code",
      "execution_count": null,
      "metadata": {
        "colab": {
          "background_save": true,
          "base_uri": "https://localhost:8080/",
          "height": 358
        },
        "id": "MWR-JqeAYgvC",
        "outputId": "591c56d8-13f1-4386-96a9-b74f74b53e8e"
      },
      "outputs": [
        {
          "data": {
            "text/html": [
              "\n",
              "    <div>\n",
              "      \n",
              "      <progress value='2001' max='2001' style='width:300px; height:20px; vertical-align: middle;'></progress>\n",
              "      [2001/2001 51:24, Epoch 1/1]\n",
              "    </div>\n",
              "    <table border=\"1\" class=\"dataframe\">\n",
              "  <thead>\n",
              " <tr style=\"text-align: left;\">\n",
              "      <th>Epoch</th>\n",
              "      <th>Training Loss</th>\n",
              "      <th>Validation Loss</th>\n",
              "      <th>Mse</th>\n",
              "      <th>Rmse</th>\n",
              "      <th>Mae</th>\n",
              "      <th>R2</th>\n",
              "      <th>Smape</th>\n",
              "    </tr>\n",
              "  </thead>\n",
              "  <tbody>\n",
              "    <tr>\n",
              "      <td>1</td>\n",
              "      <td>0.013700</td>\n",
              "      <td>0.012649</td>\n",
              "      <td>0.012649</td>\n",
              "      <td>0.112466</td>\n",
              "      <td>0.080842</td>\n",
              "      <td>0.344601</td>\n",
              "      <td>30.439817</td>\n",
              "    </tr>\n",
              "  </tbody>\n",
              "</table><p>"
            ],
            "text/plain": [
              "<IPython.core.display.HTML object>"
            ]
          },
          "metadata": {},
          "output_type": "display_data"
        },
        {
          "data": {
            "text/html": [
              "\n",
              "    <div>\n",
              "      \n",
              "      <progress value='858' max='858' style='width:300px; height:20px; vertical-align: middle;'></progress>\n",
              "      [858/858 06:44]\n",
              "    </div>\n",
              "    "
            ],
            "text/plain": [
              "<IPython.core.display.HTML object>"
            ]
          },
          "metadata": {},
          "output_type": "display_data"
        },
        {
          "data": {
            "text/plain": [
              "{'eval_loss': 0.01264856569468975,\n",
              " 'eval_mse': 0.01264856569468975,\n",
              " 'eval_rmse': 0.11246584355831146,\n",
              " 'eval_mae': 0.08084183931350708,\n",
              " 'eval_r2': 0.34460075519745514,\n",
              " 'eval_smape': 30.439817008712136,\n",
              " 'eval_runtime': 405.4924,\n",
              " 'eval_samples_per_second': 67.654,\n",
              " 'eval_steps_per_second': 2.116,\n",
              " 'epoch': 1.0}"
            ]
          },
          "execution_count": 17,
          "metadata": {},
          "output_type": "execute_result"
        }
      ],
      "source": [
        "# Specifiy the arguments for the trainer\n",
        "training_args = TrainingArguments(\n",
        "    output_dir = './results',\n",
        "    num_train_epochs = num_epochs,\n",
        "    per_device_train_batch_size = 32,\n",
        "    per_device_eval_batch_size = 32,\n",
        "    weight_decay = 0.01,\n",
        "    learning_rate = 2e-5,\n",
        "    logging_dir = './logs',\n",
        "    save_total_limit = 10,\n",
        "    load_best_model_at_end = True,\n",
        "    metric_for_best_model = 'rmse',\n",
        "    evaluation_strategy = \"epoch\",\n",
        "    save_strategy = \"epoch\",\n",
        ")\n",
        "\n",
        "# Call the Trainer\n",
        "trainer = Trainer(\n",
        "    model = model,\n",
        "    args = training_args,\n",
        "    train_dataset = train_dataset,\n",
        "    eval_dataset = valid_dataset,\n",
        "    compute_metrics = compute_metrics_for_regression,\n",
        ")\n",
        "\n",
        "# Train the model\n",
        "trainer.train()\n",
        "\n",
        "# Call the summary\n",
        "trainer.evaluate()"
      ]
    },
    {
      "cell_type": "code",
      "execution_count": null,
      "metadata": {
        "colab": {
          "background_save": true
        },
        "id": "Fi6nVNJUZ-os"
      },
      "outputs": [],
      "source": [
        "# test_embeddings = tokenizer(test_reviews_3000.reviews.astype(str).tolist(), truncation=True, padding=True, max_length=126)\n",
        "# test_dataset = MakeTorchData(test_embeddings, test_reviews_3000.Rating.astype(float))\n",
        "# bert_trainer.eval_dataset = test_dataset\n",
        "# bert_trainer.evaluate()"
      ]
    },
    {
      "cell_type": "code",
      "execution_count": null,
      "metadata": {
        "id": "lI61UK0-2B_N"
      },
      "outputs": [],
      "source": [
        "# Save the fine-tuned model\n",
        "model_save_path = '/content/drive/MyDrive/precio_model.pth'  # Define the path where you want to save the model\n",
        "torch.save(model.state_dict(), model_save_path)\n",
        "print(f\"precio_model saved to '{model_save_path}'\")"
      ]
    }
  ],
  "metadata": {
    "accelerator": "GPU",
    "colab": {
      "gpuType": "T4",
      "provenance": []
    },
    "kernelspec": {
      "display_name": "Python 3",
      "name": "python3"
    },
    "language_info": {
      "name": "python"
    }
  },
  "nbformat": 4,
  "nbformat_minor": 0
}